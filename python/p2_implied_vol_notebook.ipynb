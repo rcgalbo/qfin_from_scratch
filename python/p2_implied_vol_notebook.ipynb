{
 "cells": [
  {
   "cell_type": "markdown",
   "id": "26be91e1",
   "metadata": {},
   "source": [
    "# Options Data EDA & Project Description\n",
    "\n",
    "Implement methods outlined in paper [Adaptive Gradient Descent Methods for Computing Implied Volatility](https://arxiv.org/pdf/2108.07035v1)\n",
    "\n",
    "For testing this we are using a [dataset](https://www.dolthub.com/repositories/post-no-preference/options?source=post_page-----99046f1dc128---------------------------------------) to test our volatiltiy strategy\n",
    "\n",
    "\n",
    "The paper talks about traditional root finding methods like the Newton-Raphson method, and their shortcomings such as a high non-convergence rates in practice of ~32%\n",
    "\n",
    "The paper also discusses methods for applying gradient descent to the root finding problem. Essentially instead of searching for $g(\\sigma) = 0$, this method minimizes the squared difference between the model price and the observed market price:\n",
    "\n",
    "$$ min_{\\sigma} h(\\sigma) = (s\\Phi(d_1) - ke^{-rt}\\Phi(d2) - c)^2$$\n",
    "\n",
    "Since $h(\\sigma)$ is non-negative and is locally parabolic like around its minimum, finding the value of $\\sigma$ that minimizes $h(\\sigma)$ is equivalent to finding $g(\\sigma) = 0$\n",
    "\n",
    "To begin lets load a sample dataset from above"
   ]
  },
  {
   "cell_type": "code",
   "execution_count": 12,
   "id": "29bef643",
   "metadata": {},
   "outputs": [],
   "source": [
    "import pandas as pd\n",
    "\n",
    "\n",
    "opt_chain = pd.read_json(\"option_chain.json\", convert_dates=True)\n",
    "volatility_history = pd.read_json(\"volatility_history.json\", convert_dates=True)"
   ]
  },
  {
   "cell_type": "code",
   "execution_count": 13,
   "id": "f127614a",
   "metadata": {},
   "outputs": [
    {
     "data": {
      "text/html": [
       "<div>\n",
       "<style scoped>\n",
       "    .dataframe tbody tr th:only-of-type {\n",
       "        vertical-align: middle;\n",
       "    }\n",
       "\n",
       "    .dataframe tbody tr th {\n",
       "        vertical-align: top;\n",
       "    }\n",
       "\n",
       "    .dataframe thead th {\n",
       "        text-align: right;\n",
       "    }\n",
       "</style>\n",
       "<table border=\"1\" class=\"dataframe\">\n",
       "  <thead>\n",
       "    <tr style=\"text-align: right;\">\n",
       "      <th></th>\n",
       "      <th>date</th>\n",
       "      <th>act_symbol</th>\n",
       "      <th>expiration</th>\n",
       "      <th>strike</th>\n",
       "      <th>call_put</th>\n",
       "      <th>bid</th>\n",
       "      <th>ask</th>\n",
       "      <th>vol</th>\n",
       "      <th>delta</th>\n",
       "      <th>gamma</th>\n",
       "      <th>theta</th>\n",
       "      <th>vega</th>\n",
       "      <th>rho</th>\n",
       "    </tr>\n",
       "  </thead>\n",
       "  <tbody>\n",
       "    <tr>\n",
       "      <th>0</th>\n",
       "      <td>2019-02-09</td>\n",
       "      <td>A</td>\n",
       "      <td>2019-02-15</td>\n",
       "      <td>65.0</td>\n",
       "      <td>Call</td>\n",
       "      <td>10.50</td>\n",
       "      <td>11.25</td>\n",
       "      <td>0.2705</td>\n",
       "      <td>1.0000</td>\n",
       "      <td>0.0000</td>\n",
       "      <td>-0.0046</td>\n",
       "      <td>0.0000</td>\n",
       "      <td>0.0124</td>\n",
       "    </tr>\n",
       "    <tr>\n",
       "      <th>1</th>\n",
       "      <td>2019-02-09</td>\n",
       "      <td>A</td>\n",
       "      <td>2019-02-15</td>\n",
       "      <td>65.0</td>\n",
       "      <td>Put</td>\n",
       "      <td>0.00</td>\n",
       "      <td>0.03</td>\n",
       "      <td>0.3133</td>\n",
       "      <td>-0.0002</td>\n",
       "      <td>0.0002</td>\n",
       "      <td>-0.0002</td>\n",
       "      <td>0.0001</td>\n",
       "      <td>0.0000</td>\n",
       "    </tr>\n",
       "    <tr>\n",
       "      <th>2</th>\n",
       "      <td>2019-02-09</td>\n",
       "      <td>A</td>\n",
       "      <td>2019-02-15</td>\n",
       "      <td>67.5</td>\n",
       "      <td>Call</td>\n",
       "      <td>8.15</td>\n",
       "      <td>8.50</td>\n",
       "      <td>0.2705</td>\n",
       "      <td>0.9991</td>\n",
       "      <td>0.0010</td>\n",
       "      <td>-0.0053</td>\n",
       "      <td>0.0003</td>\n",
       "      <td>0.0129</td>\n",
       "    </tr>\n",
       "    <tr>\n",
       "      <th>3</th>\n",
       "      <td>2019-02-09</td>\n",
       "      <td>A</td>\n",
       "      <td>2019-02-15</td>\n",
       "      <td>67.5</td>\n",
       "      <td>Put</td>\n",
       "      <td>0.00</td>\n",
       "      <td>0.03</td>\n",
       "      <td>0.3133</td>\n",
       "      <td>-0.0034</td>\n",
       "      <td>0.0031</td>\n",
       "      <td>-0.0024</td>\n",
       "      <td>0.0011</td>\n",
       "      <td>0.0000</td>\n",
       "    </tr>\n",
       "    <tr>\n",
       "      <th>4</th>\n",
       "      <td>2019-02-09</td>\n",
       "      <td>A</td>\n",
       "      <td>2019-02-15</td>\n",
       "      <td>70.0</td>\n",
       "      <td>Call</td>\n",
       "      <td>5.70</td>\n",
       "      <td>6.00</td>\n",
       "      <td>0.2705</td>\n",
       "      <td>0.9845</td>\n",
       "      <td>0.0137</td>\n",
       "      <td>-0.0127</td>\n",
       "      <td>0.0041</td>\n",
       "      <td>0.0132</td>\n",
       "    </tr>\n",
       "  </tbody>\n",
       "</table>\n",
       "</div>"
      ],
      "text/plain": [
       "        date act_symbol  expiration  strike call_put    bid    ask     vol  \\\n",
       "0 2019-02-09          A  2019-02-15    65.0     Call  10.50  11.25  0.2705   \n",
       "1 2019-02-09          A  2019-02-15    65.0      Put   0.00   0.03  0.3133   \n",
       "2 2019-02-09          A  2019-02-15    67.5     Call   8.15   8.50  0.2705   \n",
       "3 2019-02-09          A  2019-02-15    67.5      Put   0.00   0.03  0.3133   \n",
       "4 2019-02-09          A  2019-02-15    70.0     Call   5.70   6.00  0.2705   \n",
       "\n",
       "    delta   gamma   theta    vega     rho  \n",
       "0  1.0000  0.0000 -0.0046  0.0000  0.0124  \n",
       "1 -0.0002  0.0002 -0.0002  0.0001  0.0000  \n",
       "2  0.9991  0.0010 -0.0053  0.0003  0.0129  \n",
       "3 -0.0034  0.0031 -0.0024  0.0011  0.0000  \n",
       "4  0.9845  0.0137 -0.0127  0.0041  0.0132  "
      ]
     },
     "execution_count": 13,
     "metadata": {},
     "output_type": "execute_result"
    }
   ],
   "source": [
    "opt_chain.head()"
   ]
  },
  {
   "cell_type": "code",
   "execution_count": 5,
   "id": "f70ab54e",
   "metadata": {},
   "outputs": [
    {
     "data": {
      "text/plain": [
       "(1000, 13)"
      ]
     },
     "execution_count": 5,
     "metadata": {},
     "output_type": "execute_result"
    }
   ],
   "source": [
    "opt_chain.shape"
   ]
  },
  {
   "cell_type": "code",
   "execution_count": 9,
   "id": "8385791f",
   "metadata": {},
   "outputs": [
    {
     "data": {
      "text/plain": [
       "array(['A', 'AAL', 'AAP', 'AAPL', 'ABBV', 'ABC', 'ABMD', 'ABT', 'ACN',\n",
       "       'ADBE', 'ADI', 'ADM', 'ADP', 'ADS', 'ADSK', 'AEE', 'AEP', 'AES',\n",
       "       'AFL', 'AGN'], dtype=object)"
      ]
     },
     "execution_count": 9,
     "metadata": {},
     "output_type": "execute_result"
    }
   ],
   "source": [
    "opt_chain.act_symbol.unique()"
   ]
  },
  {
   "cell_type": "code",
   "execution_count": 16,
   "id": "4781ab5d",
   "metadata": {},
   "outputs": [
    {
     "data": {
      "text/plain": [
       "act_symbol\n",
       "A       [2019-02-09 00:00:00]\n",
       "AAL     [2019-02-09 00:00:00]\n",
       "AAP     [2019-02-09 00:00:00]\n",
       "AAPL    [2019-02-09 00:00:00]\n",
       "ABBV    [2019-02-09 00:00:00]\n",
       "ABC     [2019-02-09 00:00:00]\n",
       "ABMD    [2019-02-09 00:00:00]\n",
       "ABT     [2019-02-09 00:00:00]\n",
       "ACN     [2019-02-09 00:00:00]\n",
       "ADBE    [2019-02-09 00:00:00]\n",
       "ADI     [2019-02-09 00:00:00]\n",
       "ADM     [2019-02-09 00:00:00]\n",
       "ADP     [2019-02-09 00:00:00]\n",
       "ADS     [2019-02-09 00:00:00]\n",
       "ADSK    [2019-02-09 00:00:00]\n",
       "AEE     [2019-02-09 00:00:00]\n",
       "AEP     [2019-02-09 00:00:00]\n",
       "AES     [2019-02-09 00:00:00]\n",
       "AFL     [2019-02-09 00:00:00]\n",
       "AGN     [2019-02-09 00:00:00]\n",
       "Name: date, dtype: object"
      ]
     },
     "execution_count": 16,
     "metadata": {},
     "output_type": "execute_result"
    }
   ],
   "source": [
    "opt_chain.groupby(\"act_symbol\").date.unique()"
   ]
  },
  {
   "cell_type": "code",
   "execution_count": 25,
   "id": "de4456ae",
   "metadata": {},
   "outputs": [
    {
     "name": "stderr",
     "output_type": "stream",
     "text": [
      "/tmp/ipykernel_231740/2746179956.py:9: FutureWarning: YF.download() has changed argument auto_adjust default to True\n",
      "  data = download(\n",
      "\n",
      "4 Failed downloads:\n",
      "['ADS', 'AGN', 'ABMD', 'ABC']: YFTzMissingError('possibly delisted; no timezone found')\n"
     ]
    }
   ],
   "source": [
    "# get historical price for each symbol\n",
    "from yfinance import download\n",
    "from datetime import datetime, timedelta\n",
    "\n",
    "symbols = list(opt_chain.act_symbol.unique())\n",
    "target_date = datetime.strptime(\"2019-02-09\", \"%Y-%m-%d\")\n",
    "\n",
    "# Download a week of data to ensure we get trading days\n",
    "data = download(\n",
    "    symbols,\n",
    "    start=target_date - timedelta(days=7),\n",
    "    end=target_date + timedelta(days=3),\n",
    "    group_by=\"ticker\",\n",
    "    progress=False,\n",
    ")"
   ]
  },
  {
   "cell_type": "code",
   "execution_count": 52,
   "id": "b8db1cf7",
   "metadata": {},
   "outputs": [
    {
     "name": "stderr",
     "output_type": "stream",
     "text": [
      "/tmp/ipykernel_231740/3704105920.py:1: FutureWarning: The previous implementation of stack is deprecated and will be removed in a future version of pandas. See the What's New notes for pandas 2.1.0 for details. Specify future_stack=True to adopt the new implementation and silence this warning.\n",
      "  closing_prices = data.stack(level=0).loc[('2019-02-08',), 'Close']\n"
     ]
    },
    {
     "data": {
      "text/plain": [
       "Ticker\n",
       "A        72.181252\n",
       "AAL      35.523731\n",
       "AAP     143.824249\n",
       "AAPL     40.720959\n",
       "ABBV     59.518333\n",
       "Name: Close, dtype: float64"
      ]
     },
     "execution_count": 52,
     "metadata": {},
     "output_type": "execute_result"
    }
   ],
   "source": [
    "closing_prices = data.stack(level=0).loc[('2019-02-08',), 'Close']  \n",
    "closing_prices.head()"
   ]
  },
  {
   "cell_type": "code",
   "execution_count": 54,
   "id": "1514b19c",
   "metadata": {},
   "outputs": [],
   "source": [
    "# add close to opt_chain\n",
    "opt_chain = opt_chain.merge(\n",
    "    closing_prices.rename(\"underlying_price\"),\n",
    "    left_on=\"act_symbol\",\n",
    "    right_index=True,\n",
    ")"
   ]
  },
  {
   "cell_type": "code",
   "execution_count": 53,
   "id": "bb53737a",
   "metadata": {},
   "outputs": [
    {
     "data": {
      "text/html": [
       "<div>\n",
       "<style scoped>\n",
       "    .dataframe tbody tr th:only-of-type {\n",
       "        vertical-align: middle;\n",
       "    }\n",
       "\n",
       "    .dataframe tbody tr th {\n",
       "        vertical-align: top;\n",
       "    }\n",
       "\n",
       "    .dataframe thead th {\n",
       "        text-align: right;\n",
       "    }\n",
       "</style>\n",
       "<table border=\"1\" class=\"dataframe\">\n",
       "  <thead>\n",
       "    <tr style=\"text-align: right;\">\n",
       "      <th></th>\n",
       "      <th>date</th>\n",
       "      <th>act_symbol</th>\n",
       "      <th>hv_current</th>\n",
       "      <th>hv_week_ago</th>\n",
       "      <th>hv_month_ago</th>\n",
       "      <th>hv_year_high</th>\n",
       "      <th>hv_year_high_date</th>\n",
       "      <th>hv_year_low</th>\n",
       "      <th>hv_year_low_date</th>\n",
       "      <th>iv_current</th>\n",
       "      <th>iv_week_ago</th>\n",
       "      <th>iv_month_ago</th>\n",
       "      <th>iv_year_high</th>\n",
       "      <th>iv_year_high_date</th>\n",
       "      <th>iv_year_low</th>\n",
       "      <th>iv_year_low_date</th>\n",
       "    </tr>\n",
       "  </thead>\n",
       "  <tbody>\n",
       "    <tr>\n",
       "      <th>0</th>\n",
       "      <td>2019-02-09</td>\n",
       "      <td>A</td>\n",
       "      <td>0.2418</td>\n",
       "      <td>0.3048</td>\n",
       "      <td>0.3433</td>\n",
       "      <td>0.4045</td>\n",
       "      <td>2019-01-03</td>\n",
       "      <td>0.1174</td>\n",
       "      <td>2018-10-03</td>\n",
       "      <td>0.2673</td>\n",
       "      <td>0.2487</td>\n",
       "      <td>0.2898</td>\n",
       "      <td>0.3610</td>\n",
       "      <td>2018-12-24</td>\n",
       "      <td>0.1647</td>\n",
       "      <td>2018-08-31</td>\n",
       "    </tr>\n",
       "    <tr>\n",
       "      <th>1</th>\n",
       "      <td>2019-02-09</td>\n",
       "      <td>AAL</td>\n",
       "      <td>0.4745</td>\n",
       "      <td>0.5612</td>\n",
       "      <td>0.6403</td>\n",
       "      <td>0.6428</td>\n",
       "      <td>2019-01-07</td>\n",
       "      <td>0.2363</td>\n",
       "      <td>2018-03-28</td>\n",
       "      <td>0.3453</td>\n",
       "      <td>0.3481</td>\n",
       "      <td>0.5038</td>\n",
       "      <td>0.6498</td>\n",
       "      <td>2018-12-24</td>\n",
       "      <td>0.2761</td>\n",
       "      <td>2018-03-16</td>\n",
       "    </tr>\n",
       "    <tr>\n",
       "      <th>2</th>\n",
       "      <td>2019-02-09</td>\n",
       "      <td>AAP</td>\n",
       "      <td>0.3112</td>\n",
       "      <td>0.3174</td>\n",
       "      <td>0.2733</td>\n",
       "      <td>0.4491</td>\n",
       "      <td>2018-04-02</td>\n",
       "      <td>0.1543</td>\n",
       "      <td>2018-07-17</td>\n",
       "      <td>0.4431</td>\n",
       "      <td>0.3986</td>\n",
       "      <td>0.3255</td>\n",
       "      <td>0.6006</td>\n",
       "      <td>2019-02-09</td>\n",
       "      <td>0.2223</td>\n",
       "      <td>2018-08-24</td>\n",
       "    </tr>\n",
       "    <tr>\n",
       "      <th>3</th>\n",
       "      <td>2019-02-09</td>\n",
       "      <td>AAPL</td>\n",
       "      <td>0.4373</td>\n",
       "      <td>0.5048</td>\n",
       "      <td>0.5061</td>\n",
       "      <td>0.5162</td>\n",
       "      <td>2019-01-04</td>\n",
       "      <td>0.1134</td>\n",
       "      <td>2018-06-22</td>\n",
       "      <td>0.2280</td>\n",
       "      <td>0.2285</td>\n",
       "      <td>0.3371</td>\n",
       "      <td>0.4552</td>\n",
       "      <td>2018-12-24</td>\n",
       "      <td>0.1592</td>\n",
       "      <td>2018-05-25</td>\n",
       "    </tr>\n",
       "    <tr>\n",
       "      <th>4</th>\n",
       "      <td>2019-02-09</td>\n",
       "      <td>ABBV</td>\n",
       "      <td>0.3718</td>\n",
       "      <td>0.4075</td>\n",
       "      <td>0.3512</td>\n",
       "      <td>0.5371</td>\n",
       "      <td>2018-05-03</td>\n",
       "      <td>0.1774</td>\n",
       "      <td>2018-09-12</td>\n",
       "      <td>0.2393</td>\n",
       "      <td>0.2420</td>\n",
       "      <td>0.3483</td>\n",
       "      <td>0.4489</td>\n",
       "      <td>2018-12-24</td>\n",
       "      <td>0.1923</td>\n",
       "      <td>2018-08-27</td>\n",
       "    </tr>\n",
       "  </tbody>\n",
       "</table>\n",
       "</div>"
      ],
      "text/plain": [
       "        date act_symbol  hv_current  hv_week_ago  hv_month_ago  hv_year_high  \\\n",
       "0 2019-02-09          A      0.2418       0.3048        0.3433        0.4045   \n",
       "1 2019-02-09        AAL      0.4745       0.5612        0.6403        0.6428   \n",
       "2 2019-02-09        AAP      0.3112       0.3174        0.2733        0.4491   \n",
       "3 2019-02-09       AAPL      0.4373       0.5048        0.5061        0.5162   \n",
       "4 2019-02-09       ABBV      0.3718       0.4075        0.3512        0.5371   \n",
       "\n",
       "  hv_year_high_date  hv_year_low hv_year_low_date  iv_current  iv_week_ago  \\\n",
       "0        2019-01-03       0.1174       2018-10-03      0.2673       0.2487   \n",
       "1        2019-01-07       0.2363       2018-03-28      0.3453       0.3481   \n",
       "2        2018-04-02       0.1543       2018-07-17      0.4431       0.3986   \n",
       "3        2019-01-04       0.1134       2018-06-22      0.2280       0.2285   \n",
       "4        2018-05-03       0.1774       2018-09-12      0.2393       0.2420   \n",
       "\n",
       "   iv_month_ago  iv_year_high iv_year_high_date  iv_year_low iv_year_low_date  \n",
       "0        0.2898        0.3610        2018-12-24       0.1647       2018-08-31  \n",
       "1        0.5038        0.6498        2018-12-24       0.2761       2018-03-16  \n",
       "2        0.3255        0.6006        2019-02-09       0.2223       2018-08-24  \n",
       "3        0.3371        0.4552        2018-12-24       0.1592       2018-05-25  \n",
       "4        0.3483        0.4489        2018-12-24       0.1923       2018-08-27  "
      ]
     },
     "execution_count": 53,
     "metadata": {},
     "output_type": "execute_result"
    }
   ],
   "source": [
    "volatility_history.head()"
   ]
  },
  {
   "cell_type": "code",
   "execution_count": 8,
   "id": "98f2c5af",
   "metadata": {},
   "outputs": [
    {
     "data": {
      "text/plain": [
       "(1000, 16)"
      ]
     },
     "execution_count": 8,
     "metadata": {},
     "output_type": "execute_result"
    }
   ],
   "source": [
    "volatility_history.shape"
   ]
  },
  {
   "cell_type": "code",
   "execution_count": null,
   "id": "6ad7223b",
   "metadata": {},
   "outputs": [],
   "source": []
  }
 ],
 "metadata": {
  "kernelspec": {
   "display_name": ".venv (3.10.12)",
   "language": "python",
   "name": "python3"
  },
  "language_info": {
   "codemirror_mode": {
    "name": "ipython",
    "version": 3
   },
   "file_extension": ".py",
   "mimetype": "text/x-python",
   "name": "python",
   "nbconvert_exporter": "python",
   "pygments_lexer": "ipython3",
   "version": "3.10.12"
  }
 },
 "nbformat": 4,
 "nbformat_minor": 5
}
